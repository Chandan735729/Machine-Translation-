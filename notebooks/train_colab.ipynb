{
 "cells": [
  {
   "cell_type": "markdown",
   "metadata": {
    "id": "header"
   },
   "source": [
    "# 🌐 English-Assamese Translation Model Training (Updated)\n",
    "\n",
    "This notebook fine-tunes Meta's NLLB model for English-Assamese translation using the **Helsinki-NLP/opus-100** dataset.\n",
    "\n",
    "## Setup Instructions:\n",
    "1. **Runtime → Change runtime type → GPU (T4 recommended)**\n",
    "2. **Run all cells in order**\n",
    "3. **Monitor training progress**\n",
    "4. **Download the trained model**\n",
    "\n",
    "---"
   ]
  },
  {
   "cell_type": "markdown",
   "metadata": {
    "id": "setup"
   },
   "source": [
    "## 1. Environment Setup"
   ]
  },
  {
   "cell_type": "code",
   "execution_count": null,
   "metadata": {
    "id": "install_deps"
   },
   "outputs": [],
   "source": [
    "print(\"Installing required packages...\")\n",
    "!pip install -q torch transformers datasets accelerate sentencepiece\n",
    "!pip install -q pandas numpy tqdm sacrebleu\n",
    "\n",
    "import torch\n",
    "print(f\"CUDA available: {torch.cuda.is_available()}\")\n",
    "if torch.cuda.is_available():\n",
    "    print(f\"GPU: {torch.cuda.get_device_name(0)}\")\n",
    "    print(f\"Memory: {torch.cuda.get_device_properties(0).total_memory / 1e9:.1f} GB\")"
   ]
  },
  {
   "cell_type": "markdown",
   "metadata": {
    "id": "clone_repo"
   },
   "source": [
    "## 2. Clone Repository and Setup"
   ]
  },
  {
   "cell_type": "code",
   "execution_count": null,
   "metadata": {
    "id": "clone"
   },
   "outputs": [],
   "source": [
    "# Clone the repository (replace with your actual repo URL)\n",
    "!git clone https://github.com/Chandan735729/Machine-Translation-.git\n",
    "%cd Machine-Translation-"
   ]
  },
  {
   "cell_type": "markdown",
   "metadata": {
    "id": "data_prep"
   },
   "source": [
    "## 3. Dataset Loading with Helsinki-NLP/opus-100"
   ]
  },
  {
   "cell_type": "code",
   "execution_count": null,
   "metadata": {
    "id": "prepare_data"
   },
   "outputs": [],
   "source": [
    "from datasets import load_dataset\n",
    "import pandas as pd\n",
    "from transformers import AutoTokenizer\n",
    "import torch\n",
    "\n",
    "print(\"🔄 Loading Helsinki-NLP/opus-100 dataset for English-Assamese...\")\n",
    "\n",
    "# Load the opus-100 dataset with English-Assamese pair\n",
    "try:\n",
    "    # Load opus-100 dataset with as-en language pair (reverse direction)\n",
    "    dataset = load_dataset(\"Helsinki-NLP/opus-100\", \"as-en\")\n",
    "    print(\"✅ Successfully loaded Helsinki-NLP/opus-100 dataset\")\n",
    "    print(f\"Available splits: {list(dataset.keys())}\")\n",
    "    print(f\"Train samples: {len(dataset['train'])}\")\n",
    "    print(f\"Test samples: {len(dataset['test'])}\")\n",
    "    \n",
    "    # Show sample data\n",
    "    print(\"\\n📝 Sample data:\")\n",
    "    for i in range(3):\n",
    "        sample = dataset['train'][i]\n",
    "        print(f\"Sample {i+1}:\")\n",
    "        print(f\"  English: {sample['translation']['en']}\")\n",
    "        print(f\"  Assamese: {sample['translation']['as']}\")\n",
    "        print()\n",
    "        \n",
    "except Exception as e:\n",
    "    print(f\"❌ Error loading opus-100: {e}\")\n",
    "    print(\"🔄 Creating fallback dataset...\")\n",
    "    \n",
    "    # Fallback to sample dataset with proper structure\n",
    "    sample_data_train = [\n",
    "        {'en': 'Hello, how are you?', 'as': 'নমস্কাৰ, আপুনি কেনে আছে?'},\n",
    "        {'en': 'Thank you very much.', 'as': 'বহুত ধন্যবাদ।'},\n",
    "        {'en': 'Good morning.', 'as': 'শুভ ৰাতিপুৱা।'},\n",
    "        {'en': 'How can I help you?', 'as': 'মই আপোনাক কেনেকৈ সহায় কৰিব পাৰো?'},\n",
    "        {'en': 'Education is very important.', 'as': 'শিক্ষা অতি গুৰুত্বপূৰ্ণ।'},\n",
    "        {'en': 'Health is wealth.', 'as': 'স্বাস্থ্যই সম্পদ।'},\n",
    "        {'en': 'Water is essential for life.', 'as': 'জীৱনৰ বাবে পানী অপৰিহাৰ্য।'},\n",
    "        {'en': 'Children need proper nutrition.', 'as': 'শিশুসকলৰ উপযুক্ত পুষ্টিৰ প্ৰয়োজন।'},\n",
    "        {'en': 'Clean environment is important.', 'as': 'পৰিষ্কাৰ পৰিৱেশ গুৰুত্বপূৰ্ণ।'},\n",
    "        {'en': 'Technology helps development.', 'as': 'প্ৰযুক্তিয়ে উন্নয়নত সহায় কৰে।'},\n",
    "        {'en': 'Women empowerment is crucial.', 'as': 'মহিলা সৱলীকৰণ অতি গুৰুত্বপূৰ্ণ।'},\n",
    "        {'en': 'Agriculture feeds the nation.', 'as': 'কৃষিয়ে দেশক খুৱায়।'},\n",
    "        {'en': 'Peace brings prosperity.', 'as': 'শান্তিয়ে সমৃদ্ধি আনে।'},\n",
    "        {'en': 'Knowledge is power.', 'as': 'জ্ঞানেই শক্তি।'},\n",
    "        {'en': 'Unity in diversity.', 'as': 'বৈচিত্ৰ্যৰ মাজত ঐক্য।'},\n",
    "        {'en': 'Hard work pays off.', 'as': 'কঠোৰ পৰিশ্ৰমৰ ফল পোৱা যায়।'},\n",
    "        {'en': 'Time is precious.', 'as': 'সময় অমূল্য।'},\n",
    "        {'en': 'Respect your elders.', 'as': 'বয়োজ্যেষ্ঠসকলক সন্মান কৰক।'},\n",
    "        {'en': 'Nature is beautiful.', 'as': 'প্ৰকৃতি সুন্দৰ।'},\n",
    "        {'en': 'Love your country.', 'as': 'নিজৰ দেশক ভাল পাওক।'}\n",
    "    ]\n",
    "    \n",
    "    sample_data_val = [\n",
    "        {'en': 'Good evening.', 'as': 'শুভ সন্ধিয়া।'},\n",
    "        {'en': 'See you tomorrow.', 'as': 'কাইলৈ লগ পাম।'},\n",
    "        {'en': 'Take care of yourself.', 'as': 'নিজৰ যত্ন লওক।'},\n",
    "        {'en': 'Have a nice day.', 'as': 'দিনটো ভাল কটাওক।'},\n",
    "        {'en': 'Welcome to Assam.', 'as': 'অসমলৈ স্বাগতম।'}\n",
    "    ]\n",
    "    \n",
    "    from datasets import Dataset, DatasetDict\n",
    "    dataset = DatasetDict({\n",
    "        'train': Dataset.from_list(sample_data_train),\n",
    "        'validation': Dataset.from_list(sample_data_val)\n",
    "    })\n",
    "    print(f\"✅ Created fallback dataset with {len(dataset['train'])} training samples\")"
   ]
  },
  {
   "cell_type": "markdown",
   "metadata": {
    "id": "dataset_exploration"
   },
   "source": [
    "## 4. Data Preprocessing"
   ]
  },
  {
   "cell_type": "code",
   "execution_count": null,
   "metadata": {
    "id": "explore_dataset"
   },
   "outputs": [],
   "source": [
    "# Cell 4: Data Preprocessing\n",
    "print(\"🔄 Setting up tokenizer and preprocessing...\")\n",
    "\n",
    "# Initialize tokenizer\n",
    "model_name = \"facebook/nllb-200-distilled-600M\"\n",
    "tokenizer = AutoTokenizer.from_pretrained(model_name)\n",
    "\n",
    "# Language codes for NLLB\n",
    "source_lang = \"eng_Latn\"  # English\n",
    "target_lang = \"asm_Beng\"  # Assamese\n",
    "\n",
    "# Set source and target languages for the tokenizer\n",
    "tokenizer.src_lang = source_lang\n",
    "tokenizer.tgt_lang = target_lang\n",
    "\n",
    "def preprocess_function(examples):\n",
    "    \"\"\"Preprocess the dataset for training\"\"\"\n",
    "    # Extract source and target texts\n",
    "    if 'translation' in examples:\n",
    "        # Handle opus-100 format\n",
    "        inputs = [ex['en'] for ex in examples['translation']]  # English as input\n",
    "        targets = [ex['as'] for ex in examples['translation']]  # Assamese as target\n",
    "    else:\n",
    "        # Handle fallback format (direct en/as columns)\n",
    "        inputs = examples['en']\n",
    "        targets = examples['as']\n",
    "\n",
    "    # Tokenize inputs\n",
    "    model_inputs = tokenizer(\n",
    "        inputs,\n",
    "        max_length=128,\n",
    "        truncation=True,\n",
    "        padding=True\n",
    "    )\n",
    "\n",
    "    # Tokenize targets\n",
    "    labels = tokenizer(\n",
    "        text_target=targets,\n",
    "        max_length=128,\n",
    "        truncation=True,\n",
    "        padding=True\n",
    "    )\n",
    "\n",
    "    model_inputs[\"labels\"] = labels[\"input_ids\"]\n",
    "    return model_inputs\n",
    "\n",
    "# Apply preprocessing\n",
    "print(\"📊 Preprocessing dataset...\")\n",
    "tokenized_dataset = dataset.map(\n",
    "    preprocess_function,\n",
    "    batched=True,\n",
    "    remove_columns=dataset['train'].column_names\n",
    ")\n",
    "\n",
    "print(f\"✅ Preprocessing completed!\")\n",
    "print(f\"Train samples: {len(tokenized_dataset['train'])}\")\n",
    "print(f\"Validation samples: {len(tokenized_dataset.get('validation', []))}\")"
   ]
  },
  {
   "cell_type": "markdown",
   "metadata": {
    "id": "training"
   },
   "source": [
    "## 5. Model Training"
   ]
  },
  {
   "cell_type": "code",
   "execution_count": null,
   "metadata": {
    "id": "train_model"
   },
   "outputs": [],
   "source": [
    "# Import training modules\n",
    "from train import TranslationTrainer\n",
    "import os\n",
    "\n",
    "# Initialize trainer\n",
    "print(\"🤖 Initializing translation trainer...\")\n",
    "trainer_obj = TranslationTrainer()\n",
    "\n",
    "# Load processed data\n",
    "print(\"📂 Loading processed dataset...\")\n",
    "dataset = trainer_obj.load_processed_data()\n",
    "\n",
    "print(f\"\\n📋 Training Configuration:\")\n",
    "print(f\"  Model: facebook/nllb-200-distilled-600M\")\n",
    "print(f\"  Dataset: ai4bharat/sangraha (English-Assamese)\")\n",
    "print(f\"  Train samples: {len(dataset['train'])}\")\n",
    "print(f\"  Validation samples: {len(dataset.get('validation', []))}\")\n",
    "print(f\"  Device: {trainer_obj.device}\")\n",
    "\n",
    "# Start training\n",
    "print(\"\\n🚀 Starting model training...\")\n",
    "print(\"This may take 30-60 minutes depending on your GPU and dataset size.\")\n",
    "\n",
    "trainer, model_path = trainer_obj.train_model(dataset)\n",
    "\n",
    "print(f\"\\n✅ Training completed!\")\n",
    "print(f\"📁 Model saved to: {model_path}\")"
   ]
  },
  {
   "cell_type": "markdown",
   "metadata": {
    "id": "evaluation"
   },
   "source": [
    "## 6. Model Evaluation"
   ]
  },
  {
   "cell_type": "code",
   "execution_count": null,
   "metadata": {
    "id": "evaluate"
   },
   "outputs": [],
   "source": [
    "# Evaluate the trained model\n",
    "print(\"📊 Evaluating model performance...\")\n",
    "eval_results = trainer_obj.evaluate_model(trainer, dataset)\n",
    "\n",
    "print(f\"\\n📈 Evaluation Results:\")\n",
    "for key, value in eval_results.items():\n",
    "    if isinstance(value, float):\n",
    "        print(f\"  {key}: {value:.4f}\")\n",
    "    else:\n",
    "        print(f\"  {key}: {value}\")"
   ]
  },
  {
   "cell_type": "markdown",
   "metadata": {
    "id": "test_translation"
   },
   "source": [
    "## 7. Test Translation"
   ]
  },
  {
   "cell_type": "code",
   "execution_count": null,
   "metadata": {
    "id": "test"
   },
   "outputs": [],
   "source": [
    "# Test the trained model\n",
    "from translate import EnglishToAssameseTranslator\n",
    "\n",
    "# Initialize translator with trained model\n",
    "print(\"🔄 Loading trained model for testing...\")\n",
    "translator = EnglishToAssameseTranslator(model_path)\n",
    "\n",
    "# Test sentences\n",
    "test_sentences = [\n",
    "    \"Community health workers are the backbone of our medical system.\",\n",
    "    \"Education is the key to development.\",\n",
    "    \"Clean water is essential for good health.\",\n",
    "    \"Vaccination protects children from diseases.\",\n",
    "    \"Women's empowerment leads to stronger communities.\",\n",
    "    \"Hello, how are you?\",\n",
    "    \"Thank you for your help.\",\n",
    "    \"The weather is nice today.\"\n",
    "]\n",
    "\n",
    "print(\"\\n🧪 Testing translations with trained model:\")\n",
    "print(\"=\" * 80)\n",
    "\n",
    "for i, sentence in enumerate(test_sentences, 1):\n",
    "    print(f\"\\n{i}. English: {sentence}\")\n",
    "    translation = translator.translate(sentence)\n",
    "    print(f\"   Assamese: {translation}\")\n",
    "    print(\"-\" * 60)\n",
    "\n",
    "print(\"\\n✅ Translation testing completed!\")"
   ]
  },
  {
   "cell_type": "markdown",
   "metadata": {
    "id": "download"
   },
   "source": [
    "## 8. Download Trained Model"
   ]
  },
  {
   "cell_type": "code",
   "execution_count": null,
   "metadata": {
    "id": "download_model"
   },
   "outputs": [],
   "source": [
    "# Create a zip file of the trained model\n",
    "import shutil\n",
    "import os\n",
    "\n",
    "model_dir = \"models/nllb-finetuned-en-to-asm-final\"\n",
    "\n",
    "if os.path.exists(model_dir):\n",
    "    print(\"📦 Creating model archive...\")\n",
    "    \n",
    "    # Create zip file\n",
    "    shutil.make_archive(\"trained_model_sangraha\", 'zip', model_dir)\n",
    "    \n",
    "    print(\"✅ Model archived as 'trained_model_sangraha.zip'\")\n",
    "    print(\"📥 Download it from the Files panel on the left\")\n",
    "    \n",
    "    # Show file size\n",
    "    size_mb = os.path.getsize(\"trained_model_sangraha.zip\") / (1024 * 1024)\n",
    "    print(f\"📊 Archive size: {size_mb:.1f} MB\")\n",
    "    \n",
    "    # Also save training info\n",
    "    import json\n",
    "    training_info = {\n",
    "        \"dataset\": \"ai4bharat/sangraha\",\n",
    "        \"base_model\": \"facebook/nllb-200-distilled-600M\",\n",
    "        \"language_pair\": \"English-Assamese\",\n",
    "        \"training_date\": str(pd.Timestamp.now()),\n",
    "        \"model_path\": model_dir\n",
    "    }\n",
    "    \n",
    "    with open(\"training_info.json\", \"w\") as f:\n",
    "        json.dump(training_info, f, indent=2)\n",
    "    \n",
    "    print(\"📄 Training info saved to 'training_info.json'\")\n",
    "    \n",
    "else:\n",
    "    print(\"❌ Model directory not found. Training may have failed.\")"
   ]
  },
  {
   "cell_type": "markdown",
   "metadata": {
    "id": "upload_to_drive"
   },
   "source": [
    "## 9. Optional: Upload to Google Drive"
   ]
  },
  {
   "cell_type": "code",
   "execution_count": null,
   "metadata": {
    "id": "drive_upload"
   },
   "outputs": [],
   "source": [
    "# Optional: Mount Google Drive and upload model\n",
    "from google.colab import drive\n",
    "import shutil\n",
    "\n",
    "# Mount Google Drive\n",
    "print(\"🔗 Mounting Google Drive...\")\n",
    "drive.mount('/content/drive')\n",
    "\n",
    "# Copy model to Drive\n",
    "drive_path = \"/content/drive/MyDrive/translation_models/\"\n",
    "os.makedirs(drive_path, exist_ok=True)\n",
    "\n",
    "if os.path.exists(\"trained_model_sangraha.zip\"):\n",
    "    shutil.copy(\"trained_model_sangraha.zip\", f\"{drive_path}trained_model_sangraha.zip\")\n",
    "    shutil.copy(\"training_info.json\", f\"{drive_path}training_info.json\")\n",
    "    print(f\"✅ Model and info uploaded to Google Drive: {drive_path}\")\n",
    "else:\n",
    "    print(\"❌ Model archive not found\")"
   ]
  },
  {
   "cell_type": "markdown",
   "metadata": {
    "id": "next_steps"
   },
   "source": [
    "## 🎉 Training Complete!\n",
    "\n",
    "### What's New:\n",
    "- ✅ **Updated Dataset**: Now using `ai4bharat/sangraha` instead of PMIndia\n",
    "- ✅ **Fixed Tokenization**: Resolved the deprecated `as_target_tokenizer` warning\n",
    "- ✅ **Better Error Handling**: Multiple fallback options for dataset loading\n",
    "- ✅ **Flexible Column Mapping**: Handles different dataset column formats\n",
    "\n",
    "### Next Steps:\n",
    "1. **Download** the trained model (`trained_model_sangraha.zip`)\n",
    "2. **Extract** it to your local project's `models/` directory\n",
    "3. **Update** the model path in your local `translate.py` if needed\n",
    "4. **Test** the model locally using the FastAPI backend\n",
    "\n",
    "### Model Usage:\n",
    "```python\n",
    "from translate import EnglishToAssameseTranslator\n",
    "\n",
    "translator = EnglishToAssameseTranslator(\"models/nllb-finetuned-en-to-asm-final\")\n",
    "result = translator.translate(\"Hello, how are you?\")\n",
    "print(result)\n",
    "```\n",
    "\n",
    "### Deployment:\n",
    "- Place the model in your project directory\n",
    "- Run the FastAPI server: `python run_server.py`\n",
    "- Access the web interface at `http://localhost:8000`\n",
    "\n",
    "---\n",
    "**Happy Translating with Sangraha Dataset! 🌐**"
   ]
  }
 ],
 "metadata": {
  "accelerator": "GPU",
  "colab": {
   "gpuType": "T4",
   "provenance": []
  },
  "kernelspec": {
   "display_name": "Python 3",
   "name": "python3"
  },
  "language_info": {
   "name": "python"
  }
 },
 "nbformat": 4,
 "nbformat_minor": 0
}
